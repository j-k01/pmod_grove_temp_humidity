{
 "cells": [
  {
   "cell_type": "markdown",
   "metadata": {},
   "source": [
    "### Simple TMP2 read() to see current room temperature and humidity."
   ]
  },
  {
   "cell_type": "code",
   "execution_count": 2,
   "metadata": {},
   "outputs": [
    {
     "data": {
      "application/javascript": [
       "\n",
       "require(['notebook/js/codecell'], function(codecell) {\n",
       "  codecell.CodeCell.options_default.highlight_modes[\n",
       "      'magic_text/x-csrc'] = {'reg':[/^%%microblaze/]};\n",
       "  Jupyter.notebook.events.one('kernel_ready.Kernel', function(){\n",
       "      Jupyter.notebook.get_cells().map(function(cell){\n",
       "          if (cell.cell_type == 'code'){ cell.auto_highlight(); } }) ;\n",
       "  });\n",
       "});\n"
      ]
     },
     "metadata": {},
     "output_type": "display_data"
    }
   ],
   "source": [
    "from pynq.overlays.base import BaseOverlay\n",
    "#\"base.bit\" is the base overlay, it is downloaded onto the FPGA. \n",
    "#This bitstream is a custom fabric designed by an FPGA designer.\n",
    "#bitstreams can be easily exchanged with each other as needed by the software engineer!\n",
    "base = BaseOverlay(\"base.bit\")\n"
   ]
  },
  {
   "cell_type": "code",
   "execution_count": 3,
   "metadata": {},
   "outputs": [
    {
     "name": "stdout",
     "output_type": "stream",
     "text": [
      "test data: 25.53125 , 53.062500\n"
     ]
    }
   ],
   "source": [
    "from time import time, sleep\n",
    "from pynq.lib.pmod.pmod_grove_th02 import Grove_TH02\n",
    "from pynq.lib.pmod import PMOD_GROVE_G3\n",
    "\n",
    "#The Temp + Humidity sensor uses the PYNQ grove adapter.\n",
    "#To use, plug the grove adapter into PMODA, and the grove connector into the G3 port.\n",
    "#This sensor talks i2c, as long as the i2c device is on the chain connected to G3,\n",
    "#it can talk.\n",
    "mytmp = Grove_TH02(base.PMODA, PMOD_GROVE_G3)\n",
    "reading = mytmp.read()\n",
    "\n",
    "print('test data: {:5} , {:5f}'.format(reading[0],reading[1]))\n",
    "\n",
    "\n",
    "##Collects time and log data from sensor for 10 samples 1 second apart \n",
    "log = []\n",
    "time_log =[]\n",
    "start_time = time()\n",
    "for x in range(10):\n",
    "    sleep(1)\n",
    "    log.append(mytmp.read())\n",
    "    time_log.append(time() - start_time)\n",
    "    \n"
   ]
  },
  {
   "cell_type": "code",
   "execution_count": 4,
   "metadata": {},
   "outputs": [
    {
     "name": "stdout",
     "output_type": "stream",
     "text": [
      "index---|--time (s)--|--temperature (celsius)--|--------humidity---------\n",
      "1       |1.070       |         25.500          |         53.125          \n",
      "2       |2.139       |         25.500          |         53.062          \n",
      "3       |3.208       |         25.500          |         53.000          \n",
      "4       |4.276       |         25.531          |         53.000          \n",
      "5       |5.346       |         25.469          |         53.062          \n",
      "6       |6.415       |         25.500          |         53.062          \n",
      "7       |7.484       |         25.500          |         53.062          \n",
      "8       |8.553       |         25.500          |         53.000          \n",
      "9       |9.622       |         25.469          |         53.062          \n",
      "10      |10.691      |         25.500          |         53.062          \n"
     ]
    },
    {
     "data": {
      "image/png": "[encoded data removed]",
      "text/plain": [
       "<matplotlib.figure.Figure at 0x2e809ef0>"
      ]
     },
     "metadata": {},
     "output_type": "display_data"
    }
   ],
   "source": [
    "from numpy import std, mean\n",
    "import matplotlib.pyplot as plt\n",
    "%matplotlib inline\n",
    "\n",
    "def display_table(time_log, temp_log, humidity_log):\n",
    "    \n",
    "    print('{:-<8}|{:-^12}|{:-^25}|{:-^25}'.format('index',\n",
    "                                                         'time (s)',\n",
    "                                                         'temperature (celsius)', \n",
    "                                                         'humidity'))\n",
    "    i = 0\n",
    "    for ti, tem, humi in zip(time_log, temp_log, humidity_log):\n",
    "        i += 1\n",
    "        print('{:<8}|{:<#12.3f}|{:^#25.3f}|{:^#25.3f}'.format(i,\n",
    "                                                             ti,\n",
    "                                                             tem, \n",
    "                                                             humi))\n",
    "        \n",
    "##Parses and visualizes collected data        \n",
    "\n",
    "temp = [x for x,_ in log]\n",
    "humidity = [y for _,y in log]\n",
    "mean_data = [mean(temp) for x in range(len(log))]\n",
    "\n",
    "display_table(time_log, temp, humidity)\n",
    "\n",
    "import numpy as np\n",
    "import matplotlib.pyplot as plt\n",
    "\n",
    "plt.figure(1)\n",
    "plt.subplot(211)\n",
    "plt.plot(time_log, temp, 'bo', time_log, temp, 'k', time_log, mean_data, 'r--')\n",
    "plt.title('Temp')\n",
    "plt.ylabel('Celsius')\n",
    "\n",
    "plt.subplot(212)\n",
    "plt.plot(time_log, humidity, 'r--')\n",
    "plt.title('Humidity')\n",
    "\n",
    "plt.show()"
   ]
  },
  {
   "cell_type": "code",
   "execution_count": null,
   "metadata": {},
   "outputs": [],
   "source": []
  }
 ],
 "metadata": {
  "kernelspec": {
   "display_name": "Python 3",
   "language": "python",
   "name": "python3"
  },
  "language_info": {
   "codemirror_mode": {
    "name": "ipython",
    "version": 3
   },
   "file_extension": ".py",
   "mimetype": "text/x-python",
   "name": "python",
   "nbconvert_exporter": "python",
   "pygments_lexer": "ipython3",
   "version": "3.6.0"
  }
 },
 "nbformat": 4,
 "nbformat_minor": 2
}
